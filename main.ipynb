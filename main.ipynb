{
 "cells": [
  {
   "cell_type": "markdown",
   "metadata": {},
   "source": [
    "# A Time Series is Worth 64 Words: Long-term Forecasting with Transformers."
   ]
  },
  {
   "cell_type": "code",
   "execution_count": 1,
   "metadata": {},
   "outputs": [],
   "source": [
    "import os\n",
    "import matplotlib.pyplot as plt\n",
    "from IPython.display import clear_output\n",
    "\n",
    "import numpy as np\n",
    "import pandas as pd\n",
    "\n",
    "import torch\n",
    "import torch.nn as nn\n",
    "from transformers import PatchTSTForPrediction, PatchTSTConfig\n",
    "\n",
    "%matplotlib inline"
   ]
  },
  {
   "cell_type": "code",
   "execution_count": 2,
   "metadata": {},
   "outputs": [],
   "source": [
    "from src.data.make_dataset import get_train_test_datasets"
   ]
  },
  {
   "cell_type": "code",
   "execution_count": 3,
   "metadata": {},
   "outputs": [],
   "source": [
    "DIR_PATH = os.getcwd()\n",
    "\n",
    "data_path = os.path.join(DIR_PATH, 'dataset')"
   ]
  },
  {
   "cell_type": "markdown",
   "metadata": {},
   "source": [
    "## Lecture des données et création des datasets"
   ]
  },
  {
   "cell_type": "code",
   "execution_count": 4,
   "metadata": {},
   "outputs": [],
   "source": [
    "from torch.utils.data import DataLoader"
   ]
  },
  {
   "cell_type": "code",
   "execution_count": 5,
   "metadata": {},
   "outputs": [],
   "source": [
    "window_size = 512\n",
    "sliding_window = 16\n",
    "forcasting_horizon = 96\n",
    "batch_size = 64\n",
    "\n",
    "train_set, val_set, test_set = get_train_test_datasets(\n",
    "    data_path+'/ETTm1.csv', \n",
    "    test_size=0.2, \n",
    "    window_size=window_size,\n",
    "    sliding_size=sliding_window,\n",
    "    forcasting_horizon=forcasting_horizon, \n",
    "    kind='sliding_window',\n",
    "    validation_size=0.1\n",
    "    )\n",
    "\n",
    "num_channels = train_set[0][0].shape[0]"
   ]
  },
  {
   "cell_type": "markdown",
   "metadata": {},
   "source": [
    "## Initialisation du modèle"
   ]
  },
  {
   "cell_type": "code",
   "execution_count": 6,
   "metadata": {},
   "outputs": [],
   "source": [
    "device = torch.device('mps' if torch.backends.mps.is_available() else 'cpu')"
   ]
  },
  {
   "cell_type": "code",
   "execution_count": 7,
   "metadata": {},
   "outputs": [
    {
     "data": {
      "text/plain": [
       "PatchTSTConfig {\n",
       "  \"_attn_implementation_autoset\": true,\n",
       "  \"activation_function\": \"gelu\",\n",
       "  \"attention_dropout\": 0.0,\n",
       "  \"bias\": true,\n",
       "  \"channel_attention\": false,\n",
       "  \"channel_consistent_masking\": false,\n",
       "  \"context_length\": 512,\n",
       "  \"d_model\": 128,\n",
       "  \"distribution_output\": \"student_t\",\n",
       "  \"do_mask_input\": null,\n",
       "  \"dropout\": 0.2,\n",
       "  \"ff_dropout\": 0.0,\n",
       "  \"ffn_dim\": 256,\n",
       "  \"head_dropout\": 0.2,\n",
       "  \"init_std\": 0.02,\n",
       "  \"loss\": \"mse\",\n",
       "  \"mask_type\": \"random\",\n",
       "  \"mask_value\": 0,\n",
       "  \"model_type\": \"patchtst\",\n",
       "  \"norm_eps\": 1e-05,\n",
       "  \"norm_type\": \"batchnorm\",\n",
       "  \"num_attention_heads\": 16,\n",
       "  \"num_forecast_mask_patches\": [\n",
       "    2\n",
       "  ],\n",
       "  \"num_hidden_layers\": 3,\n",
       "  \"num_input_channels\": 7,\n",
       "  \"num_parallel_samples\": 100,\n",
       "  \"num_targets\": 1,\n",
       "  \"output_range\": null,\n",
       "  \"patch_length\": 1,\n",
       "  \"patch_stride\": 16,\n",
       "  \"path_dropout\": 0.0,\n",
       "  \"pooling_type\": null,\n",
       "  \"positional_dropout\": 0.0,\n",
       "  \"positional_encoding_type\": \"sincos\",\n",
       "  \"pre_norm\": true,\n",
       "  \"prediction_length\": 96,\n",
       "  \"random_mask_ratio\": 0.2,\n",
       "  \"scaling\": \"std\",\n",
       "  \"share_embedding\": true,\n",
       "  \"share_projection\": true,\n",
       "  \"transformers_version\": \"4.47.1\",\n",
       "  \"unmasked_channel_indices\": null,\n",
       "  \"use_cls_token\": false\n",
       "}"
      ]
     },
     "execution_count": 7,
     "metadata": {},
     "output_type": "execute_result"
    }
   ],
   "source": [
    "# Initializing an PatchTST configuration with 12 time steps for prediction\n",
    "configuration = PatchTSTConfig(\n",
    "    num_input_channels=num_channels,\n",
    "    context_length=window_size,\n",
    "    patch_stride=sliding_window,\n",
    "    prediction_length=forcasting_horizon,\n",
    "    random_mask_ratio=0.2,\n",
    "    d_model=128,\n",
    "    num_attention_heads=16,\n",
    "    num_hidden_layers=3,\n",
    "    ffn_dim=256,\n",
    "    dropout=0.2,\n",
    "    head_dropout=0.2,\n",
    "    pooling_type=None,\n",
    "    channel_attention=False,\n",
    "    scaling=\"std\",\n",
    "    loss=\"mse\",\n",
    "    pre_norm=True,\n",
    "    norm_type=\"batchnorm\"\n",
    ")\n",
    "\n",
    "# Randomly initializing a model (with random weights) from the configuration\n",
    "model = PatchTSTForPrediction(configuration)\n",
    "\n",
    "# Accessing the model configuration\n",
    "configuration = model.config\n",
    "\n",
    "configuration"
   ]
  },
  {
   "cell_type": "markdown",
   "metadata": {},
   "source": [
    "## training"
   ]
  },
  {
   "cell_type": "code",
   "execution_count": 8,
   "metadata": {},
   "outputs": [],
   "source": [
    "optimizer = torch.optim.Adam(model.parameters(), lr=0.001)\n",
    "lr_scheduler = torch.optim.lr_scheduler.ExponentialLR(optimizer, gamma=0.95)\n",
    "criterion = nn.MSELoss()\n",
    "\n",
    "num_epochs = 10"
   ]
  },
  {
   "cell_type": "code",
   "execution_count": 9,
   "metadata": {},
   "outputs": [],
   "source": [
    "from tqdm import tqdm\n",
    "from copy import deepcopy\n",
    "\n",
    "def train(model, optimizer, criterion, batch_size, num_epochs, train_set, val_set, device, lr_scheduler, plot = False):\n",
    "\n",
    "    model.to(device)\n",
    "    train_loader = DataLoader(train_set, batch_size=batch_size, shuffle=True)\n",
    "    val_loader = DataLoader(val_set, batch_size=batch_size, shuffle=True)\n",
    "\n",
    "    train_losses = []\n",
    "    val_losses = []\n",
    "\n",
    "    best_model = deepcopy(model)\n",
    "    val_best_loss = float('inf')\n",
    "\n",
    "    for epoch in range(num_epochs):\n",
    "        model.train()\n",
    "        train_loss = 0\n",
    "        num_samples = 0\n",
    "        dloader_train = tqdm(train_loader, unit=\"batches\")\n",
    "        for i, (x, y) in enumerate(dloader_train, 1):\n",
    "            x, y = x.to(device), y.to(device)\n",
    "            optimizer.zero_grad()\n",
    "            y_hat = model(x.permute(0,2,1))[\"prediction_outputs\"]\n",
    "            loss = criterion(y_hat, y.permute(0,2,1))\n",
    "            loss.backward()\n",
    "            optimizer.step()\n",
    "            train_loss += loss.item() * len(x)\n",
    "            num_samples += len(x)\n",
    "\n",
    "            desc = \"TRAIN : Epoch [{}/{}] - loss : {:.3f} \".format(epoch+1, num_epochs, train_loss/num_samples/y_hat.shape[2])\n",
    "            dloader_train.set_description(desc)\n",
    "        avg_train_loss = train_loss / num_samples / y_hat.shape[2]\n",
    "        train_losses.append(avg_train_loss)\n",
    "        \n",
    "        with torch.no_grad():\n",
    "            model.eval()\n",
    "            val_loss = 0\n",
    "            num_samples = 0\n",
    "            dloader_val = tqdm(val_loader, unit=\"batches\")\n",
    "            for i, (x, y) in enumerate(dloader_val, 1):\n",
    "                x, y = x.to(device), y.to(device)\n",
    "                y_hat = model(x.permute(0,2,1))[\"prediction_outputs\"]\n",
    "                loss = criterion(y_hat, y.permute(0,2,1))\n",
    "                val_loss += loss.item() * len(x)\n",
    "                num_samples += len(x)\n",
    "\n",
    "                desc = \"VAL : Epoch [{}/{}] - loss : {:.3f} \".format(epoch+1, num_epochs, val_loss/num_samples/y_hat.shape[2])\n",
    "                dloader_val.set_description(desc)\n",
    "            avg_val_loss = val_loss / num_samples / y_hat.shape[2]\n",
    "            val_losses.append(avg_val_loss)\n",
    "\n",
    "        if avg_val_loss < val_best_loss:\n",
    "            best_model = deepcopy(model)\n",
    "            val_best_loss = avg_val_loss\n",
    "        \n",
    "        # lr_scheduler.step()\n",
    "        \n",
    "        if plot:\n",
    "            clear_output(wait=True)\n",
    "            plt.figure(figsize=(8,5))\n",
    "            plt.plot(range(1, len(train_losses) + 1), train_losses, label=\"Training Loss\", marker='o')\n",
    "            plt.plot(range(1, len(val_losses) + 1), val_losses, label=\"Validation Loss\", marker='s')\n",
    "            plt.xlabel(\"Epochs\")\n",
    "            plt.ylabel(\"Loss\")\n",
    "            plt.legend()\n",
    "            plt.title(\"Training and Validation Loss per Epoch\")\n",
    "            plt.grid()\n",
    "            plt.show()\n",
    "    \n",
    "    model.load_state_dict(best_model.state_dict())\n",
    "        "
   ]
  },
  {
   "cell_type": "code",
   "execution_count": 10,
   "metadata": {},
   "outputs": [
    {
     "data": {
      "image/png": "[encoded data removed]",
      "text/plain": [
       "<Figure size 800x500 with 1 Axes>"
      ]
     },
     "metadata": {},
     "output_type": "display_data"
    }
   ],
   "source": [
    "train(model, \n",
    "      optimizer, \n",
    "      criterion, \n",
    "      batch_size, \n",
    "      num_epochs, \n",
    "      train_set, \n",
    "      val_set, \n",
    "      device,\n",
    "      lr_scheduler, \n",
    "      plot = True)"
   ]
  },
  {
   "cell_type": "markdown",
   "metadata": {},
   "source": [
    "## Weather forcasting\n",
    "\n",
    "With our model, we wan't to forecast the weather using the data of the [WS Saaleaue](https://www.bgc-jena.mpg.de/wetter/weather_data.html) station. We store our data in `/dataset/weather/`."
   ]
  },
  {
   "cell_type": "code",
   "execution_count": 11,
   "metadata": {},
   "outputs": [],
   "source": [
    "weather_folder = os.path.join(DIR_PATH, 'dataset/weather')"
   ]
  },
  {
   "cell_type": "code",
   "execution_count": 12,
   "metadata": {},
   "outputs": [],
   "source": [
    "dataframes = []\n",
    "\n",
    "for file in os.listdir(weather_folder):\n",
    "    if file.endswith('.csv'):\n",
    "        dataframes.append(pd.read_csv(os.path.join(weather_folder, file), index_col=0))\n",
    "\n",
    "df = pd.concat(dataframes, axis=0)\n",
    "\n",
    "# sort by date\n",
    "df.index = pd.to_datetime(df.index, format=\"%d.%m.%Y %H:%M:%S\")\n",
    "df = df.sort_index()\n",
    "df = df.drop_duplicates()\n",
    "df.index.name = 'date'\n",
    "\n",
    "# creating a new .csv file that is stored in the dataset folder\n",
    "df.to_csv(os.path.join(DIR_PATH, 'dataset/mpi_full_saale.csv'))"
   ]
  },
  {
   "cell_type": "markdown",
   "metadata": {},
   "source": [
    "### Loading the data"
   ]
  },
  {
   "cell_type": "code",
   "execution_count": 13,
   "metadata": {},
   "outputs": [],
   "source": [
    "window_size = 720\n",
    "sliding_window = 8\n",
    "forcasting_horizon = 432 # 3 days\n",
    "batch_size = 24\n",
    "\n",
    "train_set, val_set, test_set = get_train_test_datasets(\n",
    "    data_path+'/mpi_full_saale.csv', \n",
    "    test_size=0.3, \n",
    "    window_size=window_size,\n",
    "    sliding_size=sliding_window,\n",
    "    forcasting_horizon=forcasting_horizon, \n",
    "    kind='sliding_window',\n",
    "    validation_size=0.15\n",
    "    )\n",
    "\n",
    "num_channels = train_set[0][0].shape[0]"
   ]
  },
  {
   "cell_type": "markdown",
   "metadata": {},
   "source": [
    "### Model definition"
   ]
  },
  {
   "cell_type": "code",
   "execution_count": 14,
   "metadata": {},
   "outputs": [],
   "source": [
    "device = torch.device('mps' if torch.backends.mps.is_available() else 'cpu')"
   ]
  },
  {
   "cell_type": "code",
   "execution_count": 15,
   "metadata": {},
   "outputs": [
    {
     "data": {
      "text/plain": [
       "PatchTSTConfig {\n",
       "  \"_attn_implementation_autoset\": true,\n",
       "  \"activation_function\": \"gelu\",\n",
       "  \"attention_dropout\": 0.0,\n",
       "  \"bias\": true,\n",
       "  \"channel_attention\": false,\n",
       "  \"channel_consistent_masking\": false,\n",
       "  \"context_length\": 512,\n",
       "  \"d_model\": 128,\n",
       "  \"distribution_output\": \"student_t\",\n",
       "  \"do_mask_input\": null,\n",
       "  \"dropout\": 0.2,\n",
       "  \"ff_dropout\": 0.0,\n",
       "  \"ffn_dim\": 256,\n",
       "  \"head_dropout\": 0.2,\n",
       "  \"init_std\": 0.02,\n",
       "  \"loss\": \"mse\",\n",
       "  \"mask_type\": \"random\",\n",
       "  \"mask_value\": 0,\n",
       "  \"model_type\": \"patchtst\",\n",
       "  \"norm_eps\": 1e-05,\n",
       "  \"norm_type\": \"batchnorm\",\n",
       "  \"num_attention_heads\": 16,\n",
       "  \"num_forecast_mask_patches\": [\n",
       "    2\n",
       "  ],\n",
       "  \"num_hidden_layers\": 3,\n",
       "  \"num_input_channels\": 7,\n",
       "  \"num_parallel_samples\": 100,\n",
       "  \"num_targets\": 1,\n",
       "  \"output_range\": null,\n",
       "  \"patch_length\": 1,\n",
       "  \"patch_stride\": 16,\n",
       "  \"path_dropout\": 0.0,\n",
       "  \"pooling_type\": null,\n",
       "  \"positional_dropout\": 0.0,\n",
       "  \"positional_encoding_type\": \"sincos\",\n",
       "  \"pre_norm\": true,\n",
       "  \"prediction_length\": 96,\n",
       "  \"random_mask_ratio\": 0.2,\n",
       "  \"scaling\": \"std\",\n",
       "  \"share_embedding\": true,\n",
       "  \"share_projection\": true,\n",
       "  \"transformers_version\": \"4.47.1\",\n",
       "  \"unmasked_channel_indices\": null,\n",
       "  \"use_cls_token\": false\n",
       "}"
      ]
     },
     "execution_count": 15,
     "metadata": {},
     "output_type": "execute_result"
    }
   ],
   "source": [
    "# Initializing an PatchTST configuration with 12 time steps for prediction\n",
    "config_PatchTST = PatchTSTConfig(\n",
    "    num_input_channels=num_channels,\n",
    "    context_length=window_size,\n",
    "    patch_stride=sliding_window,\n",
    "    prediction_length=forcasting_horizon,\n",
    "    random_mask_ratio=0.5,\n",
    "    d_model=144,\n",
    "    num_attention_heads=24,\n",
    "    num_hidden_layers=4,\n",
    "    ffn_dim=256,\n",
    "    dropout=0.1,\n",
    "    head_dropout=0,\n",
    "    pooling_type=\"mean\",\n",
    "    channel_attention=False,\n",
    "    scaling=\"std\",\n",
    "    loss=\"mse\",\n",
    "    pre_norm=True,\n",
    "    norm_type=\"batchnorm\"\n",
    ")\n",
    "\n",
    "# Randomly initializing a model (with random weights) from the configuration\n",
    "patchTST = PatchTSTForPrediction(config_PatchTST)\n",
    "\n",
    "# Accessing the model configuration\n",
    "config_PatchTST = model.config\n",
    "\n",
    "config_PatchTST"
   ]
  },
  {
   "cell_type": "markdown",
   "metadata": {},
   "source": [
    "### training"
   ]
  },
  {
   "cell_type": "code",
   "execution_count": null,
   "metadata": {},
   "outputs": [
    {
     "data": {
      "image/png": "[encoded data removed]",
      "text/plain": [
       "<Figure size 800x500 with 1 Axes>"
      ]
     },
     "metadata": {},
     "output_type": "display_data"
    },
    {
     "name": "stderr",
     "output_type": "stream",
     "text": [
      "  0%|          | 0/316 [00:00<?, ?batches/s]"
     ]
    }
   ],
   "source": [
    "optimizer = torch.optim.Adam(patchTST.parameters(), lr=0.001)\n",
    "lr_scheduler = torch.optim.lr_scheduler.ExponentialLR(optimizer, gamma=0.95)\n",
    "criterion = nn.MSELoss()\n",
    "\n",
    "num_epochs = 100\n",
    "\n",
    "train(model = patchTST, \n",
    "      optimizer = optimizer, \n",
    "      criterion = criterion, \n",
    "      batch_size = batch_size, \n",
    "      num_epochs = num_epochs, \n",
    "      train_set = train_set, \n",
    "      val_set = val_set, \n",
    "      device = device,\n",
    "      lr_scheduler = lr_scheduler, \n",
    "      plot = True)"
   ]
  },
  {
   "cell_type": "code",
   "execution_count": null,
   "metadata": {},
   "outputs": [],
   "source": []
  }
 ],
 "metadata": {
  "kernelspec": {
   "display_name": "pytorch",
   "language": "python",
   "name": "python3"
  },
  "language_info": {
   "codemirror_mode": {
    "name": "ipython",
    "version": 3
   },
   "file_extension": ".py",
   "mimetype": "text/x-python",
   "name": "python",
   "nbconvert_exporter": "python",
   "pygments_lexer": "ipython3",
   "version": "3.9.21"
  }
 },
 "nbformat": 4,
 "nbformat_minor": 2
}
